{
 "cells": [
  {
   "cell_type": "code",
   "execution_count": 3,
   "metadata": {},
   "outputs": [],
   "source": [
    "import pandas as pd\n",
    "import numpy as np\n",
    "from bs4 import BeautifulSoup"
   ]
  },
  {
   "cell_type": "code",
   "execution_count": 29,
   "metadata": {},
   "outputs": [],
   "source": [
    "jazz_df = pd.read_csv('jazz.csv')\n"
   ]
  },
  {
   "cell_type": "code",
   "execution_count": 36,
   "metadata": {},
   "outputs": [],
   "source": [
    "def get_img_url(row):\n",
    "    try:\n",
    "        html = row['content']\n",
    "        soup = BeautifulSoup(html,'html.parser')\n",
    "        src = soup.find('table',class_='infobox').find('img',class_='mw-file-element')['src']\n",
    "        return src.replace('//','https://')\n",
    "    except:\n",
    "        return ''\n",
    "    "
   ]
  },
  {
   "cell_type": "code",
   "execution_count": 37,
   "metadata": {},
   "outputs": [],
   "source": [
    "jazz_df['image_url'] = jazz_df.apply(get_img_url,axis=1)"
   ]
  },
  {
   "cell_type": "code",
   "execution_count": 38,
   "metadata": {},
   "outputs": [
    {
     "data": {
      "text/html": [
       "<div>\n",
       "<style scoped>\n",
       "    .dataframe tbody tr th:only-of-type {\n",
       "        vertical-align: middle;\n",
       "    }\n",
       "\n",
       "    .dataframe tbody tr th {\n",
       "        vertical-align: top;\n",
       "    }\n",
       "\n",
       "    .dataframe thead th {\n",
       "        text-align: right;\n",
       "    }\n",
       "</style>\n",
       "<table border=\"1\" class=\"dataframe\">\n",
       "  <thead>\n",
       "    <tr style=\"text-align: right;\">\n",
       "      <th></th>\n",
       "      <th>url</th>\n",
       "      <th>content</th>\n",
       "      <th>pagetype</th>\n",
       "      <th>title</th>\n",
       "      <th>album_artist</th>\n",
       "      <th>rank</th>\n",
       "      <th>genre</th>\n",
       "      <th>text</th>\n",
       "      <th>image_url</th>\n",
       "    </tr>\n",
       "  </thead>\n",
       "  <tbody>\n",
       "    <tr>\n",
       "      <th>0</th>\n",
       "      <td>https://en.wikipedia.org/wiki/Album</td>\n",
       "      <td>&lt;!DOCTYPE html&gt;\\n&lt;html class=\"client-nojs vect...</td>\n",
       "      <td>album</td>\n",
       "      <td>Album</td>\n",
       "      <td>NaN</td>\n",
       "      <td>171.0</td>\n",
       "      <td>\\n</td>\n",
       "      <td>Album - Wikipedia                         ...</td>\n",
       "      <td></td>\n",
       "    </tr>\n",
       "    <tr>\n",
       "      <th>1</th>\n",
       "      <td>https://en.wikipedia.org/wiki/Bird_(1988_film)</td>\n",
       "      <td>&lt;!DOCTYPE html&gt;\\n&lt;html class=\"client-nojs vect...</td>\n",
       "      <td>album</td>\n",
       "      <td>Bird (1988 film)</td>\n",
       "      <td>NaN</td>\n",
       "      <td>104.0</td>\n",
       "      <td>NaN</td>\n",
       "      <td>Bird (1988 film) - Wikipedia              ...</td>\n",
       "      <td>https://upload.wikimedia.org/wikipedia/en/thum...</td>\n",
       "    </tr>\n",
       "    <tr>\n",
       "      <th>2</th>\n",
       "      <td>https://en.wikipedia.org/wiki/Kind_of_Blue</td>\n",
       "      <td>&lt;!DOCTYPE html&gt;\\n&lt;html class=\"client-nojs vect...</td>\n",
       "      <td>album</td>\n",
       "      <td>Kind of Blue</td>\n",
       "      <td>Miles Davis</td>\n",
       "      <td>87.0</td>\n",
       "      <td>modal jazz</td>\n",
       "      <td>Kind of Blue - Wikipedia                  ...</td>\n",
       "      <td>https://upload.wikimedia.org/wikipedia/commons...</td>\n",
       "    </tr>\n",
       "    <tr>\n",
       "      <th>3</th>\n",
       "      <td>https://en.wikipedia.org/wiki/Miles_Davis_and_...</td>\n",
       "      <td>&lt;!DOCTYPE html&gt;\\n&lt;html class=\"client-nojs vect...</td>\n",
       "      <td>album</td>\n",
       "      <td>Miles Davis and the Modern Jazz Giants</td>\n",
       "      <td>Miles Davis</td>\n",
       "      <td>84.0</td>\n",
       "      <td>jazz</td>\n",
       "      <td>Miles Davis and the Modern Jazz Giants - W...</td>\n",
       "      <td>https://upload.wikimedia.org/wikipedia/en/thum...</td>\n",
       "    </tr>\n",
       "    <tr>\n",
       "      <th>4</th>\n",
       "      <td>https://en.wikipedia.org/wiki/Someday_My_Princ...</td>\n",
       "      <td>&lt;!DOCTYPE html&gt;\\n&lt;html class=\"client-nojs vect...</td>\n",
       "      <td>album</td>\n",
       "      <td>Someday My Prince Will Come (Miles Davis album)</td>\n",
       "      <td>Miles Davis</td>\n",
       "      <td>84.0</td>\n",
       "      <td>jazz</td>\n",
       "      <td>Someday My Prince Will Come (Miles Davis a...</td>\n",
       "      <td>https://upload.wikimedia.org/wikipedia/en/thum...</td>\n",
       "    </tr>\n",
       "  </tbody>\n",
       "</table>\n",
       "</div>"
      ],
      "text/plain": [
       "                                                 url  \\\n",
       "0                https://en.wikipedia.org/wiki/Album   \n",
       "1     https://en.wikipedia.org/wiki/Bird_(1988_film)   \n",
       "2         https://en.wikipedia.org/wiki/Kind_of_Blue   \n",
       "3  https://en.wikipedia.org/wiki/Miles_Davis_and_...   \n",
       "4  https://en.wikipedia.org/wiki/Someday_My_Princ...   \n",
       "\n",
       "                                             content pagetype  \\\n",
       "0  <!DOCTYPE html>\\n<html class=\"client-nojs vect...    album   \n",
       "1  <!DOCTYPE html>\\n<html class=\"client-nojs vect...    album   \n",
       "2  <!DOCTYPE html>\\n<html class=\"client-nojs vect...    album   \n",
       "3  <!DOCTYPE html>\\n<html class=\"client-nojs vect...    album   \n",
       "4  <!DOCTYPE html>\\n<html class=\"client-nojs vect...    album   \n",
       "\n",
       "                                             title album_artist   rank  \\\n",
       "0                                            Album          NaN  171.0   \n",
       "1                                 Bird (1988 film)          NaN  104.0   \n",
       "2                                     Kind of Blue  Miles Davis   87.0   \n",
       "3           Miles Davis and the Modern Jazz Giants  Miles Davis   84.0   \n",
       "4  Someday My Prince Will Come (Miles Davis album)  Miles Davis   84.0   \n",
       "\n",
       "        genre                                               text  \\\n",
       "0          \\n      Album - Wikipedia                         ...   \n",
       "1         NaN      Bird (1988 film) - Wikipedia              ...   \n",
       "2  modal jazz      Kind of Blue - Wikipedia                  ...   \n",
       "3        jazz      Miles Davis and the Modern Jazz Giants - W...   \n",
       "4        jazz      Someday My Prince Will Come (Miles Davis a...   \n",
       "\n",
       "                                           image_url  \n",
       "0                                                     \n",
       "1  https://upload.wikimedia.org/wikipedia/en/thum...  \n",
       "2  https://upload.wikimedia.org/wikipedia/commons...  \n",
       "3  https://upload.wikimedia.org/wikipedia/en/thum...  \n",
       "4  https://upload.wikimedia.org/wikipedia/en/thum...  "
      ]
     },
     "execution_count": 38,
     "metadata": {},
     "output_type": "execute_result"
    }
   ],
   "source": [
    "jazz_df.head()"
   ]
  },
  {
   "cell_type": "code",
   "execution_count": null,
   "metadata": {},
   "outputs": [],
   "source": [
    "html = jazz_df.iloc[3]['content']\n",
    "soup = BeautifulSoup(html,'html.parser')\n",
    "src = soup.find('table',class_='infobox').find('img',class_='mw-file-element')['src']\n",
    "src"
   ]
  },
  {
   "cell_type": "code",
   "execution_count": 40,
   "metadata": {},
   "outputs": [],
   "source": [
    "jazz_df[['url','title','image_url']].to_csv('jazz2.csv',index=False)"
   ]
  },
  {
   "cell_type": "code",
   "execution_count": null,
   "metadata": {},
   "outputs": [],
   "source": []
  }
 ],
 "metadata": {
  "kernelspec": {
   "display_name": "Python 3",
   "language": "python",
   "name": "python3"
  },
  "language_info": {
   "codemirror_mode": {
    "name": "ipython",
    "version": 3
   },
   "file_extension": ".py",
   "mimetype": "text/x-python",
   "name": "python",
   "nbconvert_exporter": "python",
   "pygments_lexer": "ipython3",
   "version": "3.10.12"
  }
 },
 "nbformat": 4,
 "nbformat_minor": 2
}
